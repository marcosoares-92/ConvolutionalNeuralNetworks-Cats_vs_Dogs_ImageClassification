{
    "metadata": {
        "kernelspec": {
            "name": "python3",
            "display_name": "Python 3 (ipykernel)",
            "language": "python"
        },
        "language_info": {
            "name": "python",
            "version": "3.8.10",
            "mimetype": "text/x-python",
            "codemirror_mode": {
                "name": "ipython",
                "version": 3
            },
            "pygments_lexer": "ipython3",
            "nbconvert_exporter": "python",
            "file_extension": ".py"
        },
        "accelerator": "GPU",
        "colab": {
            "collapsed_sections": [],
            "name": "C2_W1_Lab_1_cats_vs_dogs.ipynb",
            "private_outputs": true,
            "provenance": [
                {
                    "file_id": "https://github.com/https-deeplearning-ai/tensorflow-1-public/blob/adding_C2/C2/W1/ungraded_lab/C2_W1_Lab_1_cats_vs_dogs.ipynb",
                    "timestamp": 1639176164507
                }
            ]
        }
    },
    "nbformat_minor": 2,
    "nbformat": 4,
    "cells": [
        {
            "cell_type": "markdown",
            "source": [
                "<a href=\"https://colab.research.google.com/github/https-deeplearning-ai/tensorflow-1-public/blob/master/C2/W1/ungraded_lab/C2_W1_Lab_1_cats_vs_dogs.ipynb\" target=\"_parent\"><img src=\"https://colab.research.google.com/assets/colab-badge.svg\" alt=\"Open In Colab\"/></a>"
            ],
            "metadata": {
                "azdata_cell_guid": "0b5194f2-ad0e-4d9e-a206-780fb47ca3f4"
            }
        },
        {
            "cell_type": "markdown",
            "source": [
                "# Ungraded Lab: Using more sophisticated images with Convolutional Neural Networks\n",
                "\n",
                "In Course 1 of this specialization, you saw how to use a CNN to make your recognition of computer generated images of horses and humans more efficient. In this lesson, you'll take that to the next level: building a model to classify real images of cats and dogs. Like the horses and humans dataset, real-world images also come in different shapes, aspect ratios, etc. and you will need to take this into account when preparing your data.\n",
                "\n",
                "In this lab, you will first review how to build CNNs, prepare your data with `ImageDataGenerator` and examine your results. You'll follow these steps:\n",
                "\n",
                "1.   Explore the example data of `Dogs vs. Cats`\n",
                "2.   Build and train a neural network to classify between the two pets\n",
                "3.   Evaluate the training and validation accuracy\n",
                "\n",
                "You will build upon your results here in the next labs so you can improve it, particularly in avoiding overfitting. Let's begin!"
            ],
            "metadata": {
                "id": "YHK6DyunSbs4",
                "azdata_cell_guid": "7d73d067-ab1d-4d03-8e37-b3284d555d78"
            }
        },
        {
            "cell_type": "markdown",
            "source": [
                "**IMPORTANT NOTE:** This notebook is designed to run as a Colab. Running it on your local machine might result in some of the code blocks throwing errors."
            ],
            "metadata": {
                "id": "ywqnp_aaBTeE",
                "azdata_cell_guid": "f3ba4444-f63d-44a0-9adf-88596988d36f"
            }
        },
        {
            "cell_type": "markdown",
            "source": [
                "## Download and Inspect the Dataset\n",
                "\n",
                "You will start by downloading the dataset. This is a `.zip` of 2,000 JPG pictures of cats and dogs. It is a subset of the [\"Dogs vs. Cats\" dataset](https://www.kaggle.com/c/dogs-vs-cats/data) available on Kaggle, which contains 25,000 images. You will only use 2,000 of the full dataset to decrease training time for educational purposes."
            ],
            "metadata": {
                "id": "UY6KJV6z6l7_",
                "azdata_cell_guid": "0d3dae25-31fb-48e9-8a8d-749545b050df"
            }
        },
        {
            "cell_type": "code",
            "source": [
                "!wget --no-check-certificate https://storage.googleapis.com/mledu-datasets/cats_and_dogs_filtered.zip"
            ],
            "metadata": {
                "id": "RXZT2UsyIVe_",
                "azdata_cell_guid": "314270be-a987-4774-9bfc-e09b46becb02"
            },
            "outputs": [],
            "execution_count": null
        },
        {
            "cell_type": "markdown",
            "source": [
                "You will then extract it to the current directory."
            ],
            "metadata": {
                "id": "9brUxyTpYZHy",
                "azdata_cell_guid": "270ca595-afc7-40c7-92ee-4115053da999"
            }
        },
        {
            "cell_type": "code",
            "source": [
                "import zipfile\n",
                "\n",
                "# Unzip the archive\n",
                "local_zip = './cats_and_dogs_filtered.zip'\n",
                "zip_ref = zipfile.ZipFile(local_zip, 'r')\n",
                "zip_ref.extractall()\n",
                "\n",
                "zip_ref.close()"
            ],
            "metadata": {
                "id": "PLy3pthUS0D2",
                "azdata_cell_guid": "d57b2ff7-c517-403a-a001-c20955abedbc"
            },
            "outputs": [],
            "execution_count": null
        },
        {
            "cell_type": "markdown",
            "source": [
                "The contents of the .zip are extracted to the base directory `./cats_and_dogs_filtered`, which contains `train` and `validation` subdirectories for the training and validation datasets (you can ignore `vectorize.py` in the output in the next cell). \n",
                "\n",
                "If you recall, the **training set** is the data that is used to tell the neural network model that 'this is what a cat looks like' and 'this is what a dog looks like'. The **validation set** is images of cats and dogs that the neural network will not see as part of the training. You can use this to test how well or how badly it does in evaluating if an image contains a cat or a dog. (See the [Machine Learning Crash Course](https://developers.google.com/machine-learning/crash-course/validation/check-your-intuition) if you want a refresher on training, validation, and test sets.)\n",
                "\n",
                "These subdirectories in turn each contain `cats` and `dogs` subdirectories."
            ],
            "metadata": {
                "id": "o-qUPyfO7Qr8",
                "azdata_cell_guid": "6cc673e3-9926-4ce4-adec-aaef4d463cf6"
            }
        },
        {
            "cell_type": "code",
            "source": [
                "import os\n",
                "\n",
                "base_dir = 'cats_and_dogs_filtered'\n",
                "\n",
                "print(\"Contents of base directory:\")\n",
                "print(os.listdir(base_dir))\n",
                "\n",
                "print(\"\\nContents of train directory:\")\n",
                "print(os.listdir(f'{base_dir}/train'))\n",
                "\n",
                "print(\"\\nContents of validation directory:\")\n",
                "print(os.listdir(f'{base_dir}/validation'))"
            ],
            "metadata": {
                "id": "Mp39PPeAETY8",
                "azdata_cell_guid": "b21b2ee8-8b33-497e-9df3-d36bcf0c02ed"
            },
            "outputs": [],
            "execution_count": null
        },
        {
            "cell_type": "markdown",
            "source": [
                "You can assign each of these directories to a variable so you can use it later."
            ],
            "metadata": {
                "id": "HOUQFqi9Gz-Q",
                "azdata_cell_guid": "f2e2a42c-c0f1-40da-bfed-512f59c644fa"
            }
        },
        {
            "cell_type": "code",
            "source": [
                "import os\n",
                "\n",
                "train_dir = os.path.join(base_dir, 'train')\n",
                "validation_dir = os.path.join(base_dir, 'validation')\n",
                "\n",
                "# Directory with training cat/dog pictures\n",
                "train_cats_dir = os.path.join(train_dir, 'cats')\n",
                "train_dogs_dir = os.path.join(train_dir, 'dogs')\n",
                "\n",
                "# Directory with validation cat/dog pictures\n",
                "validation_cats_dir = os.path.join(validation_dir, 'cats')\n",
                "validation_dogs_dir = os.path.join(validation_dir, 'dogs')\n"
            ],
            "metadata": {
                "id": "MLZKVtE0dSfk",
                "azdata_cell_guid": "7e356092-82fb-43f5-b0cf-d04a8a14fe03"
            },
            "outputs": [],
            "execution_count": null
        },
        {
            "cell_type": "markdown",
            "source": [
                "Now see what the filenames look like in the `cats` and `dogs` `train` directories (file naming conventions are the same in the `validation` directory):"
            ],
            "metadata": {
                "id": "LuBYtA_Zd8_T",
                "azdata_cell_guid": "5f688ad6-bc16-4589-a501-639e10088317"
            }
        },
        {
            "cell_type": "code",
            "source": [
                "train_cat_fnames = os.listdir( train_cats_dir )\n",
                "train_dog_fnames = os.listdir( train_dogs_dir )\n",
                "\n",
                "print(train_cat_fnames[:10])\n",
                "print(train_dog_fnames[:10])"
            ],
            "metadata": {
                "id": "4PIP1rkmeAYS",
                "azdata_cell_guid": "b13dc97a-99ee-4404-99c7-1ca46a840938"
            },
            "outputs": [],
            "execution_count": null
        },
        {
            "cell_type": "markdown",
            "source": [
                "Let's find out the total number of cat and dog images in the `train` and `validation` directories:"
            ],
            "metadata": {
                "id": "HlqN5KbafhLI",
                "azdata_cell_guid": "1c55110b-e7a9-4dde-8d8f-16fc8791fdaf"
            }
        },
        {
            "cell_type": "code",
            "source": [
                "print('total training cat images :', len(os.listdir(      train_cats_dir ) ))\n",
                "print('total training dog images :', len(os.listdir(      train_dogs_dir ) ))\n",
                "\n",
                "print('total validation cat images :', len(os.listdir( validation_cats_dir ) ))\n",
                "print('total validation dog images :', len(os.listdir( validation_dogs_dir ) ))"
            ],
            "metadata": {
                "id": "H4XHh2xSfgie",
                "azdata_cell_guid": "8ea1b03e-66f0-4c3d-8c5b-acd395929c3b"
            },
            "outputs": [],
            "execution_count": null
        },
        {
            "cell_type": "markdown",
            "source": [
                "For both cats and dogs, you have 1,000 training images and 500 validation images.\n",
                "\n",
                "Now take a look at a few pictures to get a better sense of what the cat and dog datasets look like. First, configure the `matplotlib` parameters:"
            ],
            "metadata": {
                "id": "C3WZABE9eX-8",
                "azdata_cell_guid": "534738b9-812f-4e53-8405-1740e4738821"
            }
        },
        {
            "cell_type": "code",
            "source": [
                "%matplotlib inline\n",
                "\n",
                "import matplotlib.image as mpimg\n",
                "import matplotlib.pyplot as plt\n",
                "\n",
                "# Parameters for our graph; we'll output images in a 4x4 configuration\n",
                "nrows = 4\n",
                "ncols = 4\n",
                "\n",
                "pic_index = 0 # Index for iterating over images"
            ],
            "metadata": {
                "id": "b2_Q0-_5UAv-",
                "azdata_cell_guid": "e5523fa4-8758-4516-b954-1463117ef555"
            },
            "outputs": [],
            "execution_count": null
        },
        {
            "cell_type": "markdown",
            "source": [
                "Now, display a batch of 8 cat and 8 dog pictures. You can re-run the cell to see a fresh batch each time:"
            ],
            "metadata": {
                "id": "xTvHzGCxXkqp",
                "azdata_cell_guid": "8ed8723a-957e-4ca9-adcf-c7e24f2a7fa4"
            }
        },
        {
            "cell_type": "code",
            "source": [
                "# Set up matplotlib fig, and size it to fit 4x4 pics\n",
                "fig = plt.gcf()\n",
                "fig.set_size_inches(ncols*4, nrows*4)\n",
                "\n",
                "pic_index+=8\n",
                "\n",
                "next_cat_pix = [os.path.join(train_cats_dir, fname) \n",
                "                for fname in train_cat_fnames[ pic_index-8:pic_index] \n",
                "               ]\n",
                "\n",
                "next_dog_pix = [os.path.join(train_dogs_dir, fname) \n",
                "                for fname in train_dog_fnames[ pic_index-8:pic_index]\n",
                "               ]\n",
                "\n",
                "for i, img_path in enumerate(next_cat_pix+next_dog_pix):\n",
                "  # Set up subplot; subplot indices start at 1\n",
                "  sp = plt.subplot(nrows, ncols, i + 1)\n",
                "  sp.axis('Off') # Don't show axes (or gridlines)\n",
                "\n",
                "  img = mpimg.imread(img_path)\n",
                "  plt.imshow(img)\n",
                "\n",
                "plt.show()\n"
            ],
            "metadata": {
                "id": "Wpr8GxjOU8in",
                "azdata_cell_guid": "1791dbb7-516d-41a0-b877-9061984f9b29"
            },
            "outputs": [],
            "execution_count": null
        },
        {
            "cell_type": "markdown",
            "source": [
                "It may not be obvious from looking at the images in this grid but an important note here is that these images come in all shapes and sizes (just like the 'horses or humans' dataset). So before training a neural network with them, you'll need to tweak the images. You'll see that in the next sections."
            ],
            "metadata": {
                "id": "BQhDdYPEZvJt",
                "azdata_cell_guid": "1840990f-e6db-414f-8911-3bc6830207a2"
            }
        },
        {
            "cell_type": "markdown",
            "source": [
                "## Building a Small Model from Scratch to get to ~72% Accuracy\n",
                "\n",
                "To train a neural network to handle the images, you'll need them to be in a uniform size. You will choose 150x150 pixels for this, and you'll see the code that preprocesses the images to that shape shortly. \n",
                "\n",
                "You can define the model by importing Tensorflow and using the Keras API. Here is the entire code first then the discussion comes after. This is very similar to the models you have built in Course 1.\n"
            ],
            "metadata": {
                "id": "5oqBkNBJmtUv",
                "azdata_cell_guid": "bae7fb62-644c-4aa1-9ca5-13bd731fa461"
            }
        },
        {
            "cell_type": "code",
            "source": [
                "import tensorflow as tf\n",
                "\n",
                "model = tf.keras.models.Sequential([\n",
                "    # Note the input shape is the desired size of the image 150x150 with 3 bytes color (R, G, B)\n",
                "    tf.keras.layers.Conv2D(16, (3,3), activation='relu', input_shape=(150, 150, 3)),\n",
                "    #The (3, 3) kernel reduces the image in 2 pixels for axis X; and 2 pixels for axis Y.\n",
                "    #Now, the image is 148 x 148\n",
                "    tf.keras.layers.MaxPooling2D(2,2),\n",
                "    #The (2,2) max pooling divides by 2 the length of each axis.\n",
                "    #Now, the image is 74 x 74 pixels\n",
                "    tf.keras.layers.Conv2D(32, (3,3), activation='relu'),\n",
                "    #Image gets 72 x 72\n",
                "    tf.keras.layers.MaxPooling2D(2,2), \n",
                "    #Image gets 36 x 36\n",
                "    tf.keras.layers.Conv2D(64, (3,3), activation='relu'), \n",
                "    #Image is now 34 x 34\n",
                "    tf.keras.layers.MaxPooling2D(2,2),\n",
                "    #Image was reduced to 17 x 17 before flattening.\n",
                "\n",
                "    # Flatten the results to feed into a DNN\n",
                "    tf.keras.layers.Flatten(), \n",
                "    # 512 neuron hidden layer\n",
                "    tf.keras.layers.Dense(512, activation='relu'), \n",
                "    # Only 1 output neuron. It will contain a value from 0-1 where 0 for 1 class ('cats') \n",
                "    #and 1 for the other ('dogs')\n",
                "    tf.keras.layers.Dense(1, activation='sigmoid')  \n",
                "])"
            ],
            "metadata": {
                "id": "QJ0E-Y7VN3gW",
                "azdata_cell_guid": "51a72692-d0d1-42ec-ac5c-00bb369db424"
            },
            "outputs": [],
            "execution_count": null
        },
        {
            "cell_type": "markdown",
            "source": [
                "You defined a `Sequential` layer as before, adding some convolutional layers first. Note the `input_shape` parameter this time. Here is where you put the `150x150` size and `3` for the color depth because you have colored images. You then add a couple of convolutional layers and flatten the final result to feed into the densely connected layers."
            ],
            "metadata": {
                "id": "_FiCc93hN6xe",
                "azdata_cell_guid": "9bd4804b-1e30-4cbe-98bc-7e273b44e972"
            }
        },
        {
            "cell_type": "markdown",
            "source": [
                "Note that because you are facing a two-class classification problem, i.e. a *binary classification problem*, you will end the network with a [*sigmoid* activation](https://wikipedia.org/wiki/Sigmoid_function). The output of the network will be a single scalar between `0` and `1`, encoding the probability that the current image is class `1` (as opposed to class `0`)."
            ],
            "metadata": {
                "id": "gokG5HKpdtzm",
                "azdata_cell_guid": "031a87ba-f13a-45fb-9a12-0665fd3c5a64"
            }
        },
        {
            "cell_type": "markdown",
            "source": [
                "You can review the architecture of the network with the `model.summary()` method: "
            ],
            "metadata": {
                "id": "s9EaFDP5srBa",
                "azdata_cell_guid": "2a50d446-4632-4118-8e0c-a77e3ebedf60"
            }
        },
        {
            "cell_type": "code",
            "source": [
                "model.summary()"
            ],
            "metadata": {
                "id": "7ZKj8392nbgP",
                "azdata_cell_guid": "df3f5602-b91a-4b30-b72c-c80142a03053"
            },
            "outputs": [],
            "execution_count": null
        },
        {
            "cell_type": "markdown",
            "source": [
                "The `output_shape` column shows how the size of your feature map evolves in each successive layer. The convolution operation removes the outermost pixels from the original dimensions, and each pooling layer halves it."
            ],
            "metadata": {
                "id": "DmtkTn06pKxF",
                "azdata_cell_guid": "fd8736b7-b51e-49c4-9049-bc886d5b55a7"
            }
        },
        {
            "cell_type": "markdown",
            "source": [
                "Next, you'll configure the specifications for model training. You will train our model with the `binary_crossentropy` loss, because it's a binary classification problem and your final activation is a sigmoid. We will use the `rmsprop` optimizer with a learning rate of `0.001`. During training, you will want to monitor classification accuracy.\n",
                "\n",
                "**NOTE**: In this case, using the [RMSprop optimization algorithm](https://wikipedia.org/wiki/Stochastic_gradient_descent#RMSProp) is preferable to [stochastic gradient descent](https://developers.google.com/machine-learning/glossary/#SGD) (SGD), because RMSprop automates learning-rate tuning for us. (Other optimizers, such as [Adam](https://wikipedia.org/wiki/Stochastic_gradient_descent#Adam) and [Adagrad](https://developers.google.com/machine-learning/glossary/#AdaGrad), also automatically adapt the learning rate during training, and would work equally well here.)"
            ],
            "metadata": {
                "id": "PEkKSpZlvJXA",
                "azdata_cell_guid": "063a3d90-5be3-432b-ad6d-1e48ca85d6cc"
            }
        },
        {
            "cell_type": "code",
            "source": [
                "from tensorflow.keras.optimizers import RMSprop\n",
                "#We use rmsprop because it allows us to pass the learning rate as an hyperparameter.\n",
                "\n",
                "model.compile(optimizer=RMSprop(learning_rate=0.001),\n",
                "              loss='binary_crossentropy',\n",
                "              metrics = ['accuracy'])"
            ],
            "metadata": {
                "id": "8DHWhFP_uhq3",
                "azdata_cell_guid": "99925afd-56b3-4724-ba70-bc5cfc47b9fd"
            },
            "outputs": [],
            "execution_count": null
        },
        {
            "cell_type": "markdown",
            "source": [
                "### Data Preprocessing\n",
                "\n",
                "Next step is to set up the data generators that will read pictures in the source folders, convert them to `float32` tensors, and feed them (with their labels) to the model. You'll have one generator for the training images and one for the validation images. These generators will yield batches of images of size 150x150 and their labels (binary).\n",
                "\n",
                "As you may already know, data that goes into neural networks should usually be normalized in some way to make it more amenable to processing by the network (i.e. It is uncommon to feed raw pixels into a ConvNet.) In this case, you will preprocess the images by normalizing the pixel values to be in the `[0, 1]` range (originally all values are in the `[0, 255]` range).\n",
                "\n",
                "In Keras, this can be done via the `keras.preprocessing.image.ImageDataGenerator` class using the `rescale` parameter. This `ImageDataGenerator` class allows you to instantiate generators of augmented image batches (and their labels) via `.flow(data, labels)` or `.flow_from_directory(directory)`."
            ],
            "metadata": {
                "id": "Sn9m9D3UimHM",
                "azdata_cell_guid": "cdee2062-9c09-4daf-b5f2-c24a93296678"
            }
        },
        {
            "cell_type": "code",
            "source": [
                "from tensorflow.keras.preprocessing.image import ImageDataGenerator\n",
                "\n",
                "# All images will be rescaled by 1./255.\n",
                "train_datagen = ImageDataGenerator( rescale = 1.0/255. )\n",
                "test_datagen  = ImageDataGenerator( rescale = 1.0/255. )\n",
                "\n",
                "# --------------------\n",
                "# Flow training images in batches of 20 using train_datagen generator\n",
                "# --------------------\n",
                "train_generator = train_datagen.flow_from_directory(train_dir,\n",
                "                                                    batch_size=20,\n",
                "                                                    class_mode='binary',\n",
                "                                                    target_size=(150, 150))     \n",
                "# --------------------\n",
                "# Flow validation images in batches of 20 using test_datagen generator\n",
                "# --------------------\n",
                "validation_generator =  test_datagen.flow_from_directory(validation_dir,\n",
                "                                                         batch_size=20,\n",
                "                                                         class_mode  = 'binary',\n",
                "                                                         target_size = (150, 150))\n",
                "#other class_modes available are \"categorical\" and \"sparse\".\n",
                ""
            ],
            "metadata": {
                "id": "ClebU9NJg99G",
                "azdata_cell_guid": "6f88ab3d-58a8-45bb-af2d-991c4fc9982d"
            },
            "outputs": [],
            "execution_count": null
        },
        {
            "cell_type": "markdown",
            "source": [
                "### Training\n",
                "You will now train on all 2,000 images available, for 15 epochs, and monitor the accuracy as well on the 1,000 images in the validation set.\n",
                "\n",
                "Do note the values per epoch.\n",
                "\n",
                "You'll see 4 values per epoch -- Loss, Accuracy, Validation Loss and Validation Accuracy. \n",
                "\n",
                "The `loss` and `accuracy` are great indicators of progress in training. `loss` measures the current model prediction against the known labels, calculating the result. `accuracy`, on the other hand, is the portion of correct guesses. \n"
            ],
            "metadata": {
                "id": "mu3Jdwkjwax4",
                "azdata_cell_guid": "38957c26-eaa0-42e5-a1eb-e9be33c4fd56"
            }
        },
        {
            "cell_type": "code",
            "source": [
                "history = model.fit(\n",
                "            train_generator,\n",
                "            steps_per_epoch=100,\n",
                "            epochs=15,\n",
                "            validation_data=validation_generator,\n",
                "            validation_steps=50,\n",
                "            verbose=2\n",
                "            )"
            ],
            "metadata": {
                "id": "Fb1_lgobv81m",
                "azdata_cell_guid": "ba090ad3-bc76-4505-8ef9-26cb5dfaf51d"
            },
            "outputs": [],
            "execution_count": null
        },
        {
            "cell_type": "markdown",
            "source": [
                "### Model Prediction\n",
                "\n",
                "Now take a look at actually running a prediction using the model. This code will allow you to choose 1 or more files from your file system, upload them, and run them through the model, giving an indication of whether the object is a cat or a dog.\n",
                "\n",
                "**Important Note:** Due to some compatibility issues, the following code block will result in an error after you select the images(s) to upload if you are running this notebook as a `Colab` on the `Safari` browser. For all other browsers, continue with the next code block and ignore the next one after it.\n",
                "\n",
                "_For Safari users: please comment out or skip the code block below, uncomment the next code block and run it._"
            ],
            "metadata": {
                "id": "o6vSHzPR2ghH",
                "azdata_cell_guid": "aaf28233-f6f1-47af-a3fe-3db54cbd4450"
            }
        },
        {
            "cell_type": "code",
            "source": [
                "## CODE BLOCK FOR NON-SAFARI BROWSERS\n",
                "## SAFARI USERS: PLEASE SKIP THIS BLOCK AND RUN THE NEXT ONE INSTEAD\n",
                "\n",
                "import numpy as np\n",
                "\n",
                "from google.colab import files\n",
                "from keras.preprocessing import image\n",
                "\n",
                "uploaded=files.upload()\n",
                "\n",
                "for fn in uploaded.keys():\n",
                " \n",
                "  # predicting images\n",
                "  path='/content/' + fn\n",
                "  img=image.load_img(path, target_size=(150, 150))\n",
                "  \n",
                "  x=image.img_to_array(img)\n",
                "  x /= 255\n",
                "  x=np.expand_dims(x, axis=0)\n",
                "  images = np.vstack([x])\n",
                "  \n",
                "  classes = model.predict(images, batch_size=10)\n",
                "  \n",
                "  print(classes[0])\n",
                "  \n",
                "  if classes[0]>0.5:\n",
                "    print(fn + \" is a dog\")\n",
                "  else:\n",
                "    print(fn + \" is a cat\")\n",
                " "
            ],
            "metadata": {
                "id": "DoWp43WxJDNT",
                "azdata_cell_guid": "90ea8825-f4c7-4539-a1f7-acdbb5d69f5a"
            },
            "outputs": [],
            "execution_count": null
        },
        {
            "cell_type": "markdown",
            "source": [
                "`Safari` users will need to upload the images(s) manually in their workspace. Please follow the instructions, uncomment the code block below and run it.\n",
                "\n",
                "Instructions on how to upload image(s) manually in a Colab:\n",
                "\n",
                "1. Select the `folder` icon on the left `menu bar`.\n",
                "2. Click on the `folder with an arrow pointing upwards` named `..`\n",
                "3. Click on the `folder` named `tmp`.\n",
                "4. Inside of the `tmp` folder, `create a new folder` called `images`. You'll see the `New folder` option by clicking the `3 vertical dots` menu button next to the `tmp` folder.\n",
                "5. Inside of the new `images` folder, upload an image(s) of your choice, preferably of either a cat or a dog. Drag and drop the images(s) on top of the `images` folder.\n",
                "6. Uncomment and run the code block below. "
            ],
            "metadata": {
                "id": "p3LP80xSCAJM",
                "azdata_cell_guid": "b9862b5f-45e3-4a27-b2fd-3f82c6108267"
            }
        },
        {
            "cell_type": "code",
            "source": [
                "# # CODE BLOCK FOR SAFARI USERS\n",
                "\n",
                "# import numpy as np\n",
                "# from keras.preprocessing import image\n",
                "# import os\n",
                "\n",
                "# images = os.listdir(\"/tmp/images\")\n",
                "\n",
                "# print(images)\n",
                "\n",
                "# for i in images:\n",
                "#  print()\n",
                "#  # predicting images\n",
                "#  path = '/tmp/images/' + i\n",
                "#  img = image.load_img(path, target_size=(150, 150))\n",
                "#  x = image.img_to_array(img)\n",
                "#  x /= 255\n",
                "#  x = np.expand_dims(x, axis=0)\n",
                "\n",
                "#  images = np.vstack([x])\n",
                "#  classes = model.predict(images, batch_size=10)\n",
                "#  print(classes[0])\n",
                "#  if classes[0]>0.5:\n",
                "#    print(i + \" is a dog\")\n",
                "#  else:\n",
                "#    print(i + \" is a cat\")"
            ],
            "metadata": {
                "id": "vZT0cjUEB_oN",
                "azdata_cell_guid": "2f3c43e8-733e-4814-b1d3-a63c4f212411"
            },
            "outputs": [],
            "execution_count": null
        },
        {
            "cell_type": "markdown",
            "source": [
                "### Visualizing Intermediate Representations\n",
                "\n",
                "To get a feel for what kind of features your CNN has learned, one fun thing to do is to visualize how an input gets transformed as it goes through the model.\n",
                "\n",
                "You can pick a random image from the training set, and then generate a figure where each row is the output of a layer, and each image in the row is a specific filter in that output feature map. Rerun this cell to generate intermediate representations for a variety of training images."
            ],
            "metadata": {
                "id": "-8EHQyWGDvWz",
                "azdata_cell_guid": "63203a61-f93a-4bb6-9906-15edff7f1667"
            }
        },
        {
            "cell_type": "code",
            "source": [
                "import numpy as np\n",
                "import random\n",
                "from tensorflow.keras.preprocessing.image import img_to_array, load_img\n",
                "\n",
                "# Define a new Model that will take an image as input, and will output\n",
                "# intermediate representations for all layers in the previous model\n",
                "successive_outputs = [layer.output for layer in model.layers]\n",
                "visualization_model = tf.keras.models.Model(inputs = model.input, outputs = successive_outputs)\n",
                "\n",
                "# Prepare a random input image from the training set.\n",
                "cat_img_files = [os.path.join(train_cats_dir, f) for f in train_cat_fnames]\n",
                "dog_img_files = [os.path.join(train_dogs_dir, f) for f in train_dog_fnames]\n",
                "img_path = random.choice(cat_img_files + dog_img_files)\n",
                "img = load_img(img_path, target_size=(150, 150))  # this is a PIL image\n",
                "x   = img_to_array(img)                           # Numpy array with shape (150, 150, 3)\n",
                "x   = x.reshape((1,) + x.shape)                   # Numpy array with shape (1, 150, 150, 3)\n",
                "\n",
                "# Scale by 1/255\n",
                "x /= 255.0\n",
                "\n",
                "# Run the image through the network, thus obtaining all\n",
                "# intermediate representations for this image.\n",
                "successive_feature_maps = visualization_model.predict(x)\n",
                "\n",
                "# These are the names of the layers, so you can have them as part of our plot\n",
                "layer_names = [layer.name for layer in model.layers]\n",
                "\n",
                "# Display the representations\n",
                "for layer_name, feature_map in zip(layer_names, successive_feature_maps):\n",
                "  \n",
                "  if len(feature_map.shape) == 4:\n",
                "    \n",
                "    #-------------------------------------------\n",
                "    # Just do this for the conv / maxpool layers, not the fully-connected layers\n",
                "    #-------------------------------------------\n",
                "    n_features = feature_map.shape[-1]  # number of features in the feature map\n",
                "    size       = feature_map.shape[ 1]  # feature map shape (1, size, size, n_features)\n",
                "    \n",
                "    # Tile the images in this matrix\n",
                "    display_grid = np.zeros((size, size * n_features))\n",
                "    \n",
                "    #-------------------------------------------------\n",
                "    # Postprocess the feature to be visually palatable\n",
                "    #-------------------------------------------------\n",
                "    for i in range(n_features):\n",
                "      x  = feature_map[0, :, :, i]\n",
                "      x -= x.mean()\n",
                "      x /= x.std ()\n",
                "      x *=  64\n",
                "      x += 128\n",
                "      x  = np.clip(x, 0, 255).astype('uint8')\n",
                "      display_grid[:, i * size : (i + 1) * size] = x # Tile each filter into a horizontal grid\n",
                "\n",
                "    #-----------------\n",
                "    # Display the grid\n",
                "    #-----------------\n",
                "    scale = 20. / n_features\n",
                "    plt.figure( figsize=(scale * n_features, scale) )\n",
                "    plt.title ( layer_name )\n",
                "    plt.grid  ( False )\n",
                "    plt.imshow( display_grid, aspect='auto', cmap='viridis' ) "
            ],
            "metadata": {
                "id": "-5tES8rXFjux",
                "azdata_cell_guid": "cd1206bb-c524-4fcd-9248-061053d4ff09"
            },
            "outputs": [],
            "execution_count": null
        },
        {
            "cell_type": "markdown",
            "source": [
                "You can see above how the pixels highlighted turn to increasingly abstract and compact representations, especially at the bottom grid. \n",
                "\n",
                "The representations downstream start highlighting what the network pays attention to, and they show fewer and fewer features being \"activated\"; most are set to zero. This is called _representation sparsity_ and is a key feature of deep learning. These representations carry increasingly less information about the original pixels of the image, but increasingly refined information about the class of the image. You can think of a convnet (or a deep network in general) as an information distillation pipeline wherein each layer filters out the most useful features."
            ],
            "metadata": {
                "id": "tuqK2arJL0wo",
                "azdata_cell_guid": "35c1536c-1880-4ad1-ac8d-1a9bcc28300e"
            }
        },
        {
            "cell_type": "markdown",
            "source": [
                "### Evaluating Accuracy and Loss for the Model\n",
                "\n",
                "You will plot the training/validation accuracy and loss as collected during training:"
            ],
            "metadata": {
                "id": "Q5Vulban4ZrD",
                "azdata_cell_guid": "4a04ec2a-ec87-47cd-9551-2da3986e3699"
            }
        },
        {
            "cell_type": "code",
            "source": [
                "#-----------------------------------------------------------\n",
                "# Retrieve a list of list results on training and test data\n",
                "# sets for each training epoch\n",
                "#-----------------------------------------------------------\n",
                "acc      = history.history[     'accuracy' ]\n",
                "val_acc  = history.history[ 'val_accuracy' ]\n",
                "loss     = history.history[    'loss' ]\n",
                "val_loss = history.history['val_loss' ]\n",
                "\n",
                "epochs   = range(len(acc)) # Get number of epochs\n",
                "\n",
                "#------------------------------------------------\n",
                "# Plot training and validation accuracy per epoch\n",
                "#------------------------------------------------\n",
                "plt.plot  ( epochs,     acc )\n",
                "plt.plot  ( epochs, val_acc )\n",
                "plt.title ('Training and validation accuracy')\n",
                "plt.figure()\n",
                "\n",
                "#------------------------------------------------\n",
                "# Plot training and validation loss per epoch\n",
                "#------------------------------------------------\n",
                "plt.plot  ( epochs,     loss )\n",
                "plt.plot  ( epochs, val_loss )\n",
                "plt.title ('Training and validation loss'   )"
            ],
            "metadata": {
                "id": "0oj0gTIy4k60",
                "azdata_cell_guid": "2c7e2205-5b5b-47b1-a89b-48b0bd703855"
            },
            "outputs": [],
            "execution_count": null
        },
        {
            "cell_type": "markdown",
            "source": [
                "As you can see, the model is **overfitting** like it's getting out of fashion. The training accuracy (in blue) gets close to 100% while the validation accuracy (in orange) stalls as 70%. The validation loss reaches its minimum after only five epochs.\n",
                "\n",
                "Since you have a relatively small number of training examples (2000), overfitting should be the number one concern. Overfitting happens when a model exposed to too few examples learns patterns that do not generalize to new data, i.e. when the model starts using irrelevant features for making predictions. For instance, if you, as a human, only see three images of people who are lumberjacks, and three images of people who are sailors, and among them the only person wearing a cap is a lumberjack, you might start thinking that wearing a cap is a sign of being a lumberjack as opposed to a sailor. You would then make a pretty lousy lumberjack/sailor classifier.\n",
                "\n",
                "Overfitting is the central problem in machine learning: given that you are fitting the parameters of our model to a given dataset, how can you make sure that the representations learned by the model will be applicable to data it has never seen before? How do you avoid learning things that are specific to the training data?\n",
                "\n",
                "In the next exercise, you'll look at ways to prevent overfitting in this classification model."
            ],
            "metadata": {
                "id": "DgmSjUST4qoS",
                "azdata_cell_guid": "78fb12a3-7cfc-4605-b2d0-bb2f1aedeb4f"
            }
        },
        {
            "cell_type": "markdown",
            "source": [
                "## Clean Up\n",
                "\n",
                "Before running the next exercise, run the following cell to terminate the kernel and free memory resources:"
            ],
            "metadata": {
                "id": "j4IBgYCYooGD",
                "azdata_cell_guid": "7963ed65-5608-47f3-94c4-8c37a56889cd"
            }
        },
        {
            "cell_type": "code",
            "source": [
                "import os, signal\n",
                "\n",
                "os.kill(     os.getpid() , \n",
                "         signal.SIGKILL\n",
                "       )"
            ],
            "metadata": {
                "id": "651IgjLyo-Jx",
                "azdata_cell_guid": "0dd14178-b8a1-4e78-b7f2-66522e83cb61"
            },
            "outputs": [],
            "execution_count": null
        }
    ]
}